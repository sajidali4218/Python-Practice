{
  "metadata": {
    "kernelspec": {
      "name": "python",
      "display_name": "Python (Pyodide)",
      "language": "python"
    },
    "language_info": {
      "codemirror_mode": {
        "name": "python",
        "version": 3
      },
      "file_extension": ".py",
      "mimetype": "text/x-python",
      "name": "python",
      "nbconvert_exporter": "python",
      "pygments_lexer": "ipython3",
      "version": "3.8"
    }
  },
  "nbformat_minor": 4,
  "nbformat": 4,
  "cells": [
    {
      "cell_type": "code",
      "source": "#dict data set files",
      "metadata": {
        "trusted": true
      },
      "outputs": [],
      "execution_count": 2
    },
    {
      "cell_type": "code",
      "source": "data = {\n    \"name\" : \"sajid\" ,\n    \"mail_id\" : \"sajidali4218@gmail.com\",\n    \"phone_number\" : 9999834218 ,\n    \"subject\" : [\"data science\" , \"big data\" , \"data analytics\"]\n}\n\n#dict data set, json data set, java script object notation",
      "metadata": {
        "trusted": true
      },
      "outputs": [],
      "execution_count": 3
    },
    {
      "cell_type": "code",
      "source": "import json  #jsonn ppackage is impporte",
      "metadata": {
        "trusted": true
      },
      "outputs": [],
      "execution_count": 4
    },
    {
      "cell_type": "code",
      "source": "# to write dictionaryy data sets as given above in files we use json",
      "metadata": {
        "trusted": true
      },
      "outputs": [],
      "execution_count": 5
    },
    {
      "cell_type": "code",
      "source": "with open(\"data1.json\" , 'w') as f :\n    json.dump(data, f)\n\n#data1.json is the file name and we have appplied mode w, f is the object, dumpp is the json function to write",
      "metadata": {
        "trusted": true
      },
      "outputs": [],
      "execution_count": 6
    },
    {
      "cell_type": "code",
      "source": "#read files",
      "metadata": {
        "trusted": true
      },
      "outputs": [],
      "execution_count": 7
    },
    {
      "cell_type": "code",
      "source": "with open(\"data1.json\" , 'r') as f:\n    data2 = json.load(f)\n    ",
      "metadata": {
        "trusted": true
      },
      "outputs": [],
      "execution_count": 8
    },
    {
      "cell_type": "code",
      "source": "data2",
      "metadata": {
        "trusted": true
      },
      "outputs": [
        {
          "execution_count": 9,
          "output_type": "execute_result",
          "data": {
            "text/plain": "{'name': 'sajid',\n 'mail_id': 'sajidali4218@gmail.com',\n 'phone_number': 9999834218,\n 'subject': ['data science', 'big data', 'data analytics']}"
          },
          "metadata": {}
        }
      ],
      "execution_count": 9
    },
    {
      "cell_type": "code",
      "source": "data2['subject']",
      "metadata": {
        "trusted": true
      },
      "outputs": [
        {
          "execution_count": 10,
          "output_type": "execute_result",
          "data": {
            "text/plain": "['data science', 'big data', 'data analytics']"
          },
          "metadata": {}
        }
      ],
      "execution_count": 10
    },
    {
      "cell_type": "code",
      "source": "data2['subject'][1]",
      "metadata": {
        "trusted": true
      },
      "outputs": [
        {
          "execution_count": 11,
          "output_type": "execute_result",
          "data": {
            "text/plain": "'big data'"
          },
          "metadata": {}
        }
      ],
      "execution_count": 11
    },
    {
      "cell_type": "code",
      "source": "#csv = comma separated values files",
      "metadata": {
        "trusted": true
      },
      "outputs": [],
      "execution_count": 12
    },
    {
      "cell_type": "code",
      "source": "import csv  #csv package is impported",
      "metadata": {
        "trusted": true
      },
      "outputs": [],
      "execution_count": 13
    },
    {
      "cell_type": "code",
      "source": "data = [[\"name\" , \"email_id\" , \"phone_number\"],\n        [\"sajid\" , \"sajidali4218@gmail.com\", 9998341218],\n        [\"shifan\" , \"shifan@gmail.com\" , 991342841]\n\n]",
      "metadata": {
        "trusted": true
      },
      "outputs": [],
      "execution_count": 14
    },
    {
      "cell_type": "code",
      "source": "with open(\"data.csv\" , 'w') as f:\n    writer = csv.writer(f)\n\n\n    for i in data:\n        writer.writerow(i)",
      "metadata": {
        "trusted": true
      },
      "outputs": [],
      "execution_count": 15
    },
    {
      "cell_type": "code",
      "source": "with open(\"data.csv\" , 'r') as f:\n    read_data = csv.reader(f)\n\n    for i in read_data:\n        print(i)",
      "metadata": {
        "trusted": true
      },
      "outputs": [
        {
          "name": "stdout",
          "text": "['name', 'email_id', 'phone_number']\n['sajid', 'sajidali4218@gmail.com', '9998341218']\n['shifan', 'shifan@gmail.com', '991342841']\n",
          "output_type": "stream"
        }
      ],
      "execution_count": 16
    },
    {
      "cell_type": "code",
      "source": "#write binary data in files",
      "metadata": {
        "trusted": true
      },
      "outputs": [],
      "execution_count": 17
    },
    {
      "cell_type": "code",
      "source": "with open(\"test5.bin\" , 'wb') as f:\n    f.write(b\"\\x01\\x02\\x03\\x03\\z7834269\")",
      "metadata": {
        "trusted": true
      },
      "outputs": [],
      "execution_count": 21
    },
    {
      "cell_type": "code",
      "source": "with open(\"test5.bin\" , 'rb') as f:\n    print(f.read())",
      "metadata": {
        "trusted": true
      },
      "outputs": [
        {
          "name": "stdout",
          "text": "b'\\x01\\x02\\x03\\x03\\\\z783426923825555'\n",
          "output_type": "stream"
        }
      ],
      "execution_count": 23
    },
    {
      "cell_type": "code",
      "source": "",
      "metadata": {
        "trusted": true
      },
      "outputs": [],
      "execution_count": null
    }
  ]
}