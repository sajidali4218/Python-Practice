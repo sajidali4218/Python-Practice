{
 "cells": [
  {
   "cell_type": "code",
   "execution_count": 1,
   "metadata": {},
   "outputs": [],
   "source": [
    "import threading"
   ]
  },
  {
   "cell_type": "code",
   "execution_count": 2,
   "metadata": {},
   "outputs": [],
   "source": [
    "def test(id):\n",
    "    print(\"program start %d \"% id)"
   ]
  },
  {
   "cell_type": "code",
   "execution_count": 3,
   "metadata": {},
   "outputs": [],
   "source": [
    "#%d is a place holder"
   ]
  },
  {
   "cell_type": "code",
   "execution_count": 4,
   "metadata": {},
   "outputs": [
    {
     "name": "stdout",
     "output_type": "stream",
     "text": [
      "program start 68 \n"
     ]
    }
   ],
   "source": [
    "test(68)"
   ]
  },
  {
   "cell_type": "code",
   "execution_count": 5,
   "metadata": {},
   "outputs": [],
   "source": [
    "thre = [threading.Thread(target=test , args = (i,) ) for i in range(10)]"
   ]
  },
  {
   "cell_type": "code",
   "execution_count": 6,
   "metadata": {},
   "outputs": [],
   "source": [
    "#in above code, we have to run ther program ten times with fifferent arguments inside one core of a processor"
   ]
  },
  {
   "cell_type": "code",
   "execution_count": 7,
   "metadata": {},
   "outputs": [
    {
     "name": "stdout",
     "output_type": "stream",
     "text": [
      "program start 0 \n",
      "program start 1 \n",
      "program start 2 \n",
      "program start 3 \n",
      "program start 4 \n",
      "program start 5 \n",
      "program start 6 \n",
      "program start 7 \n",
      "program start 8 \n",
      "program start 9 \n"
     ]
    }
   ],
   "source": [
    "for t in thre:\n",
    "    t.start()"
   ]
  },
  {
   "cell_type": "code",
   "execution_count": 8,
   "metadata": {},
   "outputs": [],
   "source": [
    "#In thread, wqe use a function and taje different different arguments/inpputs and execute many programs"
   ]
  },
  {
   "cell_type": "code",
   "execution_count": 9,
   "metadata": {},
   "outputs": [
    {
     "data": {
      "text/plain": [
       "[<Thread(Thread-4, stopped 13216)>,\n",
       " <Thread(Thread-5, stopped 4180)>,\n",
       " <Thread(Thread-6, stopped 21568)>,\n",
       " <Thread(Thread-7, stopped 5912)>,\n",
       " <Thread(Thread-8, stopped 9588)>,\n",
       " <Thread(Thread-9, stopped 13636)>,\n",
       " <Thread(Thread-10, stopped 22384)>,\n",
       " <Thread(Thread-11, stopped 15816)>,\n",
       " <Thread(Thread-12, stopped 22172)>,\n",
       " <Thread(Thread-13, stopped 12564)>]"
      ]
     },
     "execution_count": 9,
     "metadata": {},
     "output_type": "execute_result"
    }
   ],
   "source": [
    "thre"
   ]
  },
  {
   "cell_type": "code",
   "execution_count": 10,
   "metadata": {},
   "outputs": [
    {
     "data": {
      "text/plain": [
       "2274987277568"
      ]
     },
     "execution_count": 10,
     "metadata": {},
     "output_type": "execute_result"
    }
   ],
   "source": [
    "id(thre)"
   ]
  },
  {
   "cell_type": "code",
   "execution_count": 11,
   "metadata": {},
   "outputs": [],
   "source": [
    "#we use diidfferent different inputs in a prograsm with help of thredaing"
   ]
  },
  {
   "cell_type": "code",
   "execution_count": 12,
   "metadata": {},
   "outputs": [],
   "source": [
    "import threading\n",
    "import urllib.request\n",
    "\n",
    "def file_download(url, filename):\n",
    "    urllib.request.urlretrieve(url, filename)"
   ]
  },
  {
   "cell_type": "code",
   "execution_count": 14,
   "metadata": {},
   "outputs": [],
   "source": [
    "file_download(\"https://www.teachermagazine.com/in_en/articles/indian-school-design-recognised-globally\" , \"Indian school design recognised globally.txt\")"
   ]
  },
  {
   "cell_type": "code",
   "execution_count": 15,
   "metadata": {},
   "outputs": [],
   "source": [
    "url_list = [\"https://www.teachermagazine.com/in_en/articles/indian-school-design-recognised-globally\" , \"https://www.teachermagazine.com/in_en/articles/schooling-after-covid-19-challenges-in-india\" , \"https://www.teachermagazine.com/in_en/articles/a-stem-intervention-program-for-students\"]"
   ]
  },
  {
   "cell_type": "code",
   "execution_count": 16,
   "metadata": {},
   "outputs": [
    {
     "data": {
      "text/plain": [
       "['https://www.teachermagazine.com/in_en/articles/indian-school-design-recognised-globally',\n",
       " 'https://www.teachermagazine.com/in_en/articles/schooling-after-covid-19-challenges-in-india',\n",
       " 'https://www.teachermagazine.com/in_en/articles/a-stem-intervention-program-for-students']"
      ]
     },
     "execution_count": 16,
     "metadata": {},
     "output_type": "execute_result"
    }
   ],
   "source": [
    "url_list"
   ]
  },
  {
   "cell_type": "code",
   "execution_count": 17,
   "metadata": {},
   "outputs": [],
   "source": [
    "file_name_list = ['data1.txt' , 'data2.txt' , 'data3.txt']"
   ]
  },
  {
   "cell_type": "code",
   "execution_count": 18,
   "metadata": {},
   "outputs": [],
   "source": [
    "#here we need to call three progarms to download the file, wit the helpp of thredaing we can exceute the progrann in with one code"
   ]
  },
  {
   "cell_type": "code",
   "execution_count": 19,
   "metadata": {},
   "outputs": [],
   "source": [
    "thre1 = [threading.Thread(target =file_download, args = (url_list[i] , file_name_list[i]) ) for i in range(len(url_list))]"
   ]
  },
  {
   "cell_type": "code",
   "execution_count": 21,
   "metadata": {},
   "outputs": [
    {
     "data": {
      "text/plain": [
       "[<Thread(Thread-14, initial)>,\n",
       " <Thread(Thread-15, initial)>,\n",
       " <Thread(Thread-16, initial)>]"
      ]
     },
     "execution_count": 21,
     "metadata": {},
     "output_type": "execute_result"
    }
   ],
   "source": [
    "thre1"
   ]
  },
  {
   "cell_type": "code",
   "execution_count": 22,
   "metadata": {},
   "outputs": [],
   "source": [
    "for t in thre1:\n",
    "    t.start()"
   ]
  },
  {
   "cell_type": "code",
   "execution_count": 23,
   "metadata": {},
   "outputs": [
    {
     "data": {
      "text/plain": [
       "[<Thread(Thread-14, stopped 2616)>,\n",
       " <Thread(Thread-15, stopped 6748)>,\n",
       " <Thread(Thread-16, stopped 18296)>]"
      ]
     },
     "execution_count": 23,
     "metadata": {},
     "output_type": "execute_result"
    }
   ],
   "source": [
    "thre1"
   ]
  },
  {
   "cell_type": "code",
   "execution_count": 24,
   "metadata": {},
   "outputs": [],
   "source": [
    "import time"
   ]
  },
  {
   "cell_type": "code",
   "execution_count": 34,
   "metadata": {},
   "outputs": [],
   "source": [
    "def test1(id):\n",
    "    for i in range(10):\n",
    "        print(\"test1 %d printing %d %s\" %(id, i , time.ctime()))\n",
    "        time.sleep(1)\n"
   ]
  },
  {
   "cell_type": "code",
   "execution_count": 35,
   "metadata": {},
   "outputs": [
    {
     "name": "stdout",
     "output_type": "stream",
     "text": [
      "test1 87 printing 0 Tue Jan  2 17:05:32 2024\n",
      "test1 87 printing 1 Tue Jan  2 17:05:33 2024\n",
      "test1 87 printing 2 Tue Jan  2 17:05:34 2024\n",
      "test1 87 printing 3 Tue Jan  2 17:05:35 2024\n",
      "test1 87 printing 4 Tue Jan  2 17:05:36 2024\n",
      "test1 87 printing 5 Tue Jan  2 17:05:37 2024\n",
      "test1 87 printing 6 Tue Jan  2 17:05:38 2024\n",
      "test1 87 printing 7 Tue Jan  2 17:05:39 2024\n",
      "test1 87 printing 8 Tue Jan  2 17:05:40 2024\n",
      "test1 87 printing 9 Tue Jan  2 17:05:41 2024\n"
     ]
    }
   ],
   "source": [
    "test1(87)"
   ]
  },
  {
   "cell_type": "code",
   "execution_count": 36,
   "metadata": {},
   "outputs": [],
   "source": [
    "thre2 = [threading.Thread(target = test1 , args = (i,) ) for i in range(3)]"
   ]
  },
  {
   "cell_type": "code",
   "execution_count": 37,
   "metadata": {},
   "outputs": [
    {
     "name": "stdout",
     "output_type": "stream",
     "text": [
      "test1 0 printing 0 Tue Jan  2 17:05:55 2024\n",
      "test1 1 printing 0 Tue Jan  2 17:05:55 2024\n",
      "test1 2 printing 0 Tue Jan  2 17:05:55 2024\n"
     ]
    },
    {
     "name": "stdout",
     "output_type": "stream",
     "text": [
      "test1 0 printing 1 Tue Jan  2 17:05:56 2024test1 2 printing 1 Tue Jan  2 17:05:56 2024\n",
      "\n",
      "test1 1 printing 1 Tue Jan  2 17:05:56 2024\n",
      "test1 2 printing 2 Tue Jan  2 17:05:57 2024\n",
      "test1 1 printing 2 Tue Jan  2 17:05:57 2024\n",
      "test1 0 printing 2 Tue Jan  2 17:05:57 2024\n",
      "test1 2 printing 3 Tue Jan  2 17:05:58 2024test1 0 printing 3 Tue Jan  2 17:05:58 2024\n",
      "\n",
      "test1 1 printing 3 Tue Jan  2 17:05:58 2024\n",
      "test1 0 printing 4 Tue Jan  2 17:05:59 2024test1 1 printing 4 Tue Jan  2 17:05:59 2024\n",
      "\n",
      "test1 2 printing 4 Tue Jan  2 17:05:59 2024\n",
      "test1 2 printing 5 Tue Jan  2 17:06:00 2024test1 1 printing 5 Tue Jan  2 17:06:00 2024\n",
      "test1 0 printing 5 Tue Jan  2 17:06:00 2024\n",
      "\n",
      "test1 0 printing 6 Tue Jan  2 17:06:01 2024test1 1 printing 6 Tue Jan  2 17:06:01 2024\n",
      "test1 2 printing 6 Tue Jan  2 17:06:01 2024\n",
      "\n",
      "test1 1 printing 7 Tue Jan  2 17:06:02 2024test1 0 printing 7 Tue Jan  2 17:06:02 2024\n",
      "test1 2 printing 7 Tue Jan  2 17:06:02 2024\n",
      "\n",
      "test1 0 printing 8 Tue Jan  2 17:06:03 2024test1 2 printing 8 Tue Jan  2 17:06:03 2024\n",
      "\n",
      "test1 1 printing 8 Tue Jan  2 17:06:03 2024\n",
      "test1 1 printing 9 Tue Jan  2 17:06:04 2024test1 0 printing 9 Tue Jan  2 17:06:04 2024\n",
      "test1 2 printing 9 Tue Jan  2 17:06:04 2024\n",
      "\n"
     ]
    }
   ],
   "source": [
    "for t in thre2:\n",
    "    t.start()"
   ]
  },
  {
   "cell_type": "code",
   "execution_count": 40,
   "metadata": {},
   "outputs": [],
   "source": [
    "shared_var = 0\n",
    "lock_var = threading.Lock()"
   ]
  },
  {
   "cell_type": "code",
   "execution_count": 44,
   "metadata": {},
   "outputs": [],
   "source": [
    "def test2(id):\n",
    "    global shared_var\n",
    "    with lock_var:\n",
    "        shared_var = shared_var + 1\n",
    "        print(\"test2 id is %d and has increased the shared variable by %d \"%(id, shared_var))"
   ]
  },
  {
   "cell_type": "code",
   "execution_count": 45,
   "metadata": {},
   "outputs": [],
   "source": [
    "thre4 = [threading.Thread(target = test2 , args = (id,)) for i in range(3)]"
   ]
  },
  {
   "cell_type": "code",
   "execution_count": null,
   "metadata": {},
   "outputs": [
    {
     "name": "stderr",
     "output_type": "stream",
     "text": [
      "Exception in thread Thread-29:\n",
      "Traceback (most recent call last):\n",
      "  File \"C:\\Program Files\\WindowsApps\\PythonSoftwareFoundation.Python.3.9_3.9.3568.0_x64__qbz5n2kfra8p0\\lib\\threading.py\", line 980, in _bootstrap_inner\n",
      "    self.run()\n",
      "  File \"C:\\Program Files\\WindowsApps\\PythonSoftwareFoundation.Python.3.9_3.9.3568.0_x64__qbz5n2kfra8p0\\lib\\threading.py\", line 917, in run\n",
      "    self._target(*self._args, **self._kwargs)\n",
      "  File \"C:\\Users\\admin\\AppData\\Local\\Temp\\ipykernel_19508\\2120941762.py\", line 5, in test2\n",
      "Exception in thread Thread-30:\n",
      "Traceback (most recent call last):\n",
      "  File \"C:\\Program Files\\WindowsApps\\PythonSoftwareFoundation.Python.3.9_3.9.3568.0_x64__qbz5n2kfra8p0\\lib\\threading.py\", line 980, in _bootstrap_inner\n",
      "    self.run()\n",
      "  File \"C:\\Program Files\\WindowsApps\\PythonSoftwareFoundation.Python.3.9_3.9.3568.0_x64__qbz5n2kfra8p0\\lib\\threading.py\", line 917, in run\n",
      "Exception in thread Thread-31:\n",
      "Traceback (most recent call last):\n",
      "  File \"C:\\Program Files\\WindowsApps\\PythonSoftwareFoundation.Python.3.9_3.9.3568.0_x64__qbz5n2kfra8p0\\lib\\threading.py\", line 980, in _bootstrap_inner\n",
      "    self._target(*self._args, **self._kwargs)\n",
      "  File \"C:\\Users\\admin\\AppData\\Local\\Temp\\ipykernel_19508\\2120941762.py\", line 5, in test2\n",
      "    self.run()\n",
      "  File \"C:\\Program Files\\WindowsApps\\PythonSoftwareFoundation.Python.3.9_3.9.3568.0_x64__qbz5n2kfra8p0\\lib\\threading.py\", line 917, in run\n",
      "    self._target(*self._args, **self._kwargs)\n",
      "  File \"C:\\Users\\admin\\AppData\\Local\\Temp\\ipykernel_19508\\2120941762.py\", line 5, in test2\n",
      "TypeError: %d format: a number is required, not builtin_function_or_method\n",
      "TypeError: %d format: a number is required, not builtin_function_or_method\n"
     ]
    },
    {
     "name": "stderr",
     "output_type": "stream",
     "text": [
      "TypeError: %d format: a number is required, not builtin_function_or_method\n"
     ]
    }
   ],
   "source": [
    "for t in thre4:\n",
    "    t.start()"
   ]
  },
  {
   "cell_type": "code",
   "execution_count": null,
   "metadata": {},
   "outputs": [],
   "source": []
  }
 ],
 "metadata": {
  "kernelspec": {
   "display_name": "Python 3",
   "language": "python",
   "name": "python3"
  },
  "language_info": {
   "codemirror_mode": {
    "name": "ipython",
    "version": 3
   },
   "file_extension": ".py",
   "mimetype": "text/x-python",
   "name": "python",
   "nbconvert_exporter": "python",
   "pygments_lexer": "ipython3",
   "version": "3.9.13"
  }
 },
 "nbformat": 4,
 "nbformat_minor": 2
}
