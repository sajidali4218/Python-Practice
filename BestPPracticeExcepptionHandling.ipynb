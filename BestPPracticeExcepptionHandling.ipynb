{
  "metadata": {
    "kernelspec": {
      "name": "python",
      "display_name": "Python (Pyodide)",
      "language": "python"
    },
    "language_info": {
      "codemirror_mode": {
        "name": "python",
        "version": 3
      },
      "file_extension": ".py",
      "mimetype": "text/x-python",
      "name": "python",
      "nbconvert_exporter": "python",
      "pygments_lexer": "ipython3",
      "version": "3.8"
    }
  },
  "nbformat_minor": 4,
  "nbformat": 4,
  "cells": [
    {
      "cell_type": "code",
      "source": "#try  to use always spppecifiic  excepptionn",
      "metadata": {
        "trusted": true
      },
      "outputs": [],
      "execution_count": 1
    },
    {
      "cell_type": "code",
      "source": "try:\n    10/0\nexcept Exception as e:\n    print(e)",
      "metadata": {
        "trusted": true
      },
      "outputs": [
        {
          "name": "stdout",
          "text": "division by zero\n",
          "output_type": "stream"
        }
      ],
      "execution_count": 4
    },
    {
      "cell_type": "code",
      "source": "#we use sub class exception above to handle error but we should always use specific class excepption",
      "metadata": {
        "trusted": true
      },
      "outputs": [],
      "execution_count": 5
    },
    {
      "cell_type": "code",
      "source": "try:\n    10/0\nexcept ZeroDivisionError as e:\n    print(e)",
      "metadata": {
        "trusted": true
      },
      "outputs": [
        {
          "name": "stdout",
          "text": "division by zero\n",
          "output_type": "stream"
        }
      ],
      "execution_count": 7
    },
    {
      "cell_type": "code",
      "source": "#we use specifiic class excepotion isntead of sub class exzcepption because anyone who read the code unsdderstand that tgere is zero fivison error int he code",
      "metadata": {
        "trusted": true
      },
      "outputs": [],
      "execution_count": 9
    },
    {
      "cell_type": "code",
      "source": "#print always a proper message\ntry:\n    10/0\nexcept ZeroDivisionError as e:\n    print(\"I am trying to handle a zerodivision error\" , e)\n",
      "metadata": {
        "trusted": true
      },
      "outputs": [
        {
          "name": "stdout",
          "text": "I am trying to handle a zerodivision error division by zero\n",
          "output_type": "stream"
        }
      ],
      "execution_count": 11
    },
    {
      "cell_type": "code",
      "source": "#always try to logging your error Instead of error\nimport logging\nlogging.basicConfig(filename = \"error.log\" , level = logging.ERROR)\ntry:\n    10/0\nexcept ZeroDivisionError as e:\n    logging.error(\"I am trying to handle a zerodivision error {}\".format(e) )\n",
      "metadata": {
        "trusted": true
      },
      "outputs": [],
      "execution_count": 14
    },
    {
      "cell_type": "code",
      "source": "#always try to avoid to write a multiple exception handlinng\n\nimport logging\nlogging.basicConfig(filename = \"error.log\" , level = logging.ERROR)\ntry:\n    10/0\nexcept FileNotFoundError as e:\n    logginng.error(\"I am handling FileNotFoundError {}\".format(e) )\nexcept AttributeError as e:\n    \n    logging.error(\"I am handling AttributeError {}\".format(e) )\nexcept ZeroDivisionError as e:\n    logging.error(\"I am trying to handle a zerodivision error {}\".format(e) )\n",
      "metadata": {
        "trusted": true
      },
      "outputs": [],
      "execution_count": 15
    },
    {
      "cell_type": "code",
      "source": "#document all the error",
      "metadata": {
        "trusted": true
      },
      "outputs": [],
      "execution_count": 16
    },
    {
      "cell_type": "code",
      "source": "#cleanup all the resource\n\ntry:\n    with open(\"test11.txt\" , 'w') as f:\n        f.write(\"this is my dfata to file\")\nexcept FileNotFoundError as e:\n    logginng.error(\"I am handling FileNotFoundError {}\".format(e) )\nfinally:\n    f.close()",
      "metadata": {
        "trusted": true
      },
      "outputs": [],
      "execution_count": 18
    },
    {
      "cell_type": "code",
      "source": "",
      "metadata": {
        "trusted": true
      },
      "outputs": [],
      "execution_count": null
    }
  ]
}