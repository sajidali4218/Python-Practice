{
  "metadata": {
    "kernelspec": {
      "name": "python",
      "display_name": "Python (Pyodide)",
      "language": "python"
    },
    "language_info": {
      "codemirror_mode": {
        "name": "python",
        "version": 3
      },
      "file_extension": ".py",
      "mimetype": "text/x-python",
      "name": "python",
      "nbconvert_exporter": "python",
      "pygments_lexer": "ipython3",
      "version": "3.8"
    }
  },
  "nbformat_minor": 4,
  "nbformat": 4,
  "cells": [
    {
      "cell_type": "code",
      "source": "#Abstract Class is use to prepare skeleton/bluepprint/outline",
      "metadata": {
        "trusted": true
      },
      "outputs": [],
      "execution_count": 5
    },
    {
      "cell_type": "code",
      "source": "#Making Skeleton/Blueprint/Outline class\n\nimport abc\nclass pwskills :\n\n    @abc.abstractmethod\n    def students_details(self):\n        pass\n\n    @abc.abstractmethod\n    def student_assignment(self):\n        pass\n\n    @abc.abstractmethod\n    def student_marks(self):\n        pass\n\n\n#pwskills is skeleton//blueprint/outline for fuuurther uuse in other classes",
      "metadata": {
        "trusted": true
      },
      "outputs": [],
      "execution_count": 47
    },
    {
      "cell_type": "code",
      "source": "class student_detials(pwskills):\n\n    def student_details(self):\n        return \"this is method for taking student details\"\n\n    def student_assignment(self):\n        return \"thgius is meth for assiigning detailss for particuular srudent\"\n\n#here the skeleton class pwskills is inheritted into student_details class",
      "metadata": {
        "trusted": true
      },
      "outputs": [],
      "execution_count": 48
    },
    {
      "cell_type": "code",
      "source": "class data_science_masters(pwskills):\n\n    def student_details(self):\n        return \"this will return student details for data science masters\"\n\n    def student_assignment(self):\n        return \"this wiill giiive yyouu studenmt assignment details for data scince\"",
      "metadata": {
        "trusted": true
      },
      "outputs": [],
      "execution_count": 49
    },
    {
      "cell_type": "code",
      "source": "dsm = data_science_masters()\ndsm.student_details()\n\n#dsm is an aobject/variable of class data_science_masters",
      "metadata": {
        "trusted": true
      },
      "outputs": [
        {
          "execution_count": 50,
          "output_type": "execute_result",
          "data": {
            "text/plain": "'this will return student details for data science masters'"
          },
          "metadata": {}
        }
      ],
      "execution_count": 50
    },
    {
      "cell_type": "code",
      "source": "dsm.student_assignment()",
      "metadata": {
        "trusted": true
      },
      "outputs": [
        {
          "execution_count": 53,
          "output_type": "execute_result",
          "data": {
            "text/plain": "'this wiill giiive yyouu studenmt assignment details for data scince'"
          },
          "metadata": {}
        }
      ],
      "execution_count": 53
    },
    {
      "cell_type": "code",
      "source": "",
      "metadata": {
        "trusted": true
      },
      "outputs": [],
      "execution_count": null
    }
  ]
}