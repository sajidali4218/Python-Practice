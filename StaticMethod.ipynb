{
  "metadata": {
    "kernelspec": {
      "name": "python",
      "display_name": "Python (Pyodide)",
      "language": "python"
    },
    "language_info": {
      "codemirror_mode": {
        "name": "python",
        "version": 3
      },
      "file_extension": ".py",
      "mimetype": "text/x-python",
      "name": "python",
      "nbconvert_exporter": "python",
      "pygments_lexer": "ipython3",
      "version": "3.8"
    }
  },
  "nbformat_minor": 4,
  "nbformat": 4,
  "cells": [
    {
      "cell_type": "code",
      "source": "class pwskills:\n\n    def student_details(self, name, mail_id, number):\n        print(name, mail_id, number)",
      "metadata": {
        "trusted": true
      },
      "outputs": [],
      "execution_count": 1
    },
    {
      "cell_type": "code",
      "source": "pw = pwskills()",
      "metadata": {
        "trusted": true
      },
      "outputs": [],
      "execution_count": 2
    },
    {
      "cell_type": "code",
      "source": "pw.student_details(\"sajid\", \"sajidali4218@gmail.com\", 9999834218)",
      "metadata": {
        "trusted": true
      },
      "outputs": [
        {
          "name": "stdout",
          "text": "sajid sajidali4218@gmail.com 9999834218\n",
          "output_type": "stream"
        }
      ],
      "execution_count": 4
    },
    {
      "cell_type": "code",
      "source": "class pwskills1:\n\n    def student_details(self, name, mail_id, number):\n        print(name, mail_id, number)\n\n    @staticmethod\n    def mentor_class(list_mentor):\n        print(list_mentor)\n\n    def mentor(self, mentor_list):\n        print(mentor_list)\n    ",
      "metadata": {
        "trusted": true
      },
      "outputs": [],
      "execution_count": 11
    },
    {
      "cell_type": "code",
      "source": "pwskills1.mentor_class([\"sajid\", \"shifan\"])",
      "metadata": {
        "trusted": true
      },
      "outputs": [
        {
          "name": "stdout",
          "text": "['sajid', 'shifan']\n",
          "output_type": "stream"
        }
      ],
      "execution_count": 12
    },
    {
      "cell_type": "code",
      "source": "stu1 = pwskills1()",
      "metadata": {
        "trusted": true
      },
      "outputs": [],
      "execution_count": 15
    },
    {
      "cell_type": "code",
      "source": "stu1.mentor([\"sajid\" , \"shifan\"])",
      "metadata": {
        "trusted": true
      },
      "outputs": [
        {
          "name": "stdout",
          "text": "['sajid', 'shifan']\n",
          "output_type": "stream"
        }
      ],
      "execution_count": 17
    },
    {
      "cell_type": "code",
      "source": "class pwskills2:\n\n    def student_details(self, name, mail_id, number):\n        print(name, mail_id, number)\n\n    @staticmethod\n    def mentor_mail_id(mail_id_number):\n        print(mail_id_number)\n\n    \n    @staticmethod\n    def mentor_class(list_mentor):\n        pwskills2.mentor_mail_id([\"sajiidali4218@gmail.com\", \"shiufaan@gmail.com\"])\n        print(list_mentor)\n\n    @classmethod\n    def class_name(cls):\n        cls.mentor_class([\"sajid\" , \"shifan\"])\n\n    def mentor(self, mentor_list):\n        print(mentor_list)\n        self.mentor_class([\"sajid\", \"shifan\"])\n    ",
      "metadata": {
        "trusted": true
      },
      "outputs": [],
      "execution_count": 24
    },
    {
      "cell_type": "code",
      "source": "pwskills2.class_name()",
      "metadata": {
        "trusted": true
      },
      "outputs": [
        {
          "name": "stdout",
          "text": "['sajid', 'shifan']\n",
          "output_type": "stream"
        }
      ],
      "execution_count": 19
    },
    {
      "cell_type": "code",
      "source": "pwskills2.mentor_class([\"sajid\", \"shifan\"])",
      "metadata": {
        "trusted": true
      },
      "outputs": [
        {
          "name": "stdout",
          "text": "['sajiidali4218@gmail.com', 'shiufaan@gmail.com']\n['sajid', 'shifan']\n",
          "output_type": "stream"
        }
      ],
      "execution_count": 22
    },
    {
      "cell_type": "code",
      "source": "pw = pwskills2()",
      "metadata": {
        "trusted": true
      },
      "outputs": [],
      "execution_count": 26
    },
    {
      "cell_type": "code",
      "source": "pw.mentor([\"sajid\", \"shifan\"])",
      "metadata": {
        "trusted": true
      },
      "outputs": [
        {
          "name": "stdout",
          "text": "['sajid', 'shifan']\n['sajiidali4218@gmail.com', 'shiufaan@gmail.com']\n['sajid', 'shifan']\n",
          "output_type": "stream"
        }
      ],
      "execution_count": 28
    },
    {
      "cell_type": "code",
      "source": "",
      "metadata": {
        "trusted": true
      },
      "outputs": [],
      "execution_count": null
    }
  ]
}