{
  "metadata": {
    "kernelspec": {
      "name": "python",
      "display_name": "Python (Pyodide)",
      "language": "python"
    },
    "language_info": {
      "codemirror_mode": {
        "name": "python",
        "version": 3
      },
      "file_extension": ".py",
      "mimetype": "text/x-python",
      "name": "python",
      "nbconvert_exporter": "python",
      "pygments_lexer": "ipython3",
      "version": "3.8"
    }
  },
  "nbformat_minor": 4,
  "nbformat": 4,
  "cells": [
    {
      "cell_type": "code",
      "source": "print(\"this is my print\")",
      "metadata": {
        "trusted": true
      },
      "outputs": [
        {
          "name": "stdout",
          "text": "this is my print\n",
          "output_type": "stream"
        }
      ],
      "execution_count": 1
    },
    {
      "cell_type": "code",
      "source": "#prinnt is only seen in console and saved in any files",
      "metadata": {
        "trusted": true
      },
      "outputs": [],
      "execution_count": 2
    },
    {
      "cell_type": "code",
      "source": "#Logging in Pyython is storing codes in a file for future purposes",
      "metadata": {
        "trusted": true
      },
      "outputs": [],
      "execution_count": 3
    },
    {
      "cell_type": "code",
      "source": "#uuse logging module instead of pprint",
      "metadata": {
        "trusted": true
      },
      "outputs": [],
      "execution_count": 4
    },
    {
      "cell_type": "code",
      "source": "import logging",
      "metadata": {
        "trusted": true
      },
      "outputs": [],
      "execution_count": 1
    },
    {
      "cell_type": "code",
      "source": "logging.basicConfig(filename = \"test.log\" , level = logging.INFO)",
      "metadata": {
        "trusted": true
      },
      "outputs": [],
      "execution_count": 2
    },
    {
      "cell_type": "code",
      "source": "logging.info(\"log this line of execution\")",
      "metadata": {
        "trusted": true
      },
      "outputs": [],
      "execution_count": 3
    },
    {
      "cell_type": "code",
      "source": "logging.info(\"this is my print\")",
      "metadata": {
        "trusted": true
      },
      "outputs": [],
      "execution_count": 4
    },
    {
      "cell_type": "code",
      "source": "#we are storing above input into a file(test.log)",
      "metadata": {
        "trusted": true
      },
      "outputs": [],
      "execution_count": 5
    },
    {
      "cell_type": "code",
      "source": "Level of Logging\n1. NOTSET\n2. DEBUG\n3. INFO\n4. WARNING\n5. ERROR\n6. CRITICAL",
      "metadata": {
        "trusted": true
      },
      "outputs": [],
      "execution_count": null
    },
    {
      "cell_type": "code",
      "source": "logging.debug(\"this is my msg\")  #this will be not logging in file bcz the logging leve; is set on loggging.INFO, everything will logged in file from down the INFO level of logging",
      "metadata": {
        "trusted": true
      },
      "outputs": [],
      "execution_count": 7
    },
    {
      "cell_type": "code",
      "source": "logging.warning(\"this is myyy warning msg\")",
      "metadata": {
        "trusted": true
      },
      "outputs": [],
      "execution_count": 21
    },
    {
      "cell_type": "code",
      "source": "logging.error(\"this is my error msg\")",
      "metadata": {
        "trusted": true
      },
      "outputs": [],
      "execution_count": 8
    },
    {
      "cell_type": "code",
      "source": "logging.critical(\"this is myy crictical msg\")",
      "metadata": {
        "trusted": true
      },
      "outputs": [],
      "execution_count": 10
    },
    {
      "cell_type": "code",
      "source": "logging.shutdown()",
      "metadata": {
        "trusted": true
      },
      "outputs": [],
      "execution_count": 13
    },
    {
      "cell_type": "code",
      "source": "logging.basicConfig(filename = \"test1.log\" , level = logging.DEBUG , format = '%(asctime)s %(message)s' )",
      "metadata": {
        "trusted": true
      },
      "outputs": [],
      "execution_count": 18
    },
    {
      "cell_type": "code",
      "source": "logging.info(\"this is myyy info loggiinng\")\nlogging.error(\"this is myy error msg\")\nlogging.critical(\"this iis myyy critical msg\")",
      "metadata": {
        "trusted": true
      },
      "outputs": [],
      "execution_count": 19
    },
    {
      "cell_type": "code",
      "source": "logging.shutdown()",
      "metadata": {
        "trusted": true
      },
      "outputs": [],
      "execution_count": 20
    },
    {
      "cell_type": "code",
      "source": "import logging",
      "metadata": {
        "trusted": true
      },
      "outputs": [],
      "execution_count": 31
    },
    {
      "cell_type": "code",
      "source": "logging.basicConfig(filename = \"test2.log\" , level = logging.DEBUG , format = '%(asctime)s %(name)s %(levelname)s %(message)s')",
      "metadata": {
        "trusted": true
      },
      "outputs": [],
      "execution_count": 36
    },
    {
      "cell_type": "code",
      "source": "l = [1,2,3,45,5,[7,8,9] , \"sajid\" , \"ali\"]",
      "metadata": {
        "trusted": true
      },
      "outputs": [],
      "execution_count": 37
    },
    {
      "cell_type": "code",
      "source": "l1_int = []\nl2_str = []\nfor i in l:\n    logging.info(\"we are iterating through our list nd our local variabie is i\" + str(l))\n    if type(i) == list :\n        logging.info(\"I am inside if statement and i am trrying to check list type\" + str(i))\n        for j in i:\n            logging.info(\"i am inside another for loop for list inside list element\" + str(j))\n            if type(j) == int:\n                logging.info(\"I am inside if statement and i am trying to check int type\")\n                l1_int.append(j)\n                \n    \n    elif type(i) == int:\n        l1_int.append(i)\n    else:\n        if type(i) == str :\n            l2_str.append(i)\n    ",
      "metadata": {
        "trusted": true
      },
      "outputs": [],
      "execution_count": 42
    },
    {
      "cell_type": "code",
      "source": "l1_int",
      "metadata": {
        "trusted": true
      },
      "outputs": [
        {
          "execution_count": 39,
          "output_type": "execute_result",
          "data": {
            "text/plain": "[1, 2, 3, 45, 5, 7, 8, 9]"
          },
          "metadata": {}
        }
      ],
      "execution_count": 39
    },
    {
      "cell_type": "code",
      "source": "l2_str",
      "metadata": {
        "trusted": true
      },
      "outputs": [
        {
          "execution_count": 40,
          "output_type": "execute_result",
          "data": {
            "text/plain": "['sajid', 'ali']"
          },
          "metadata": {}
        }
      ],
      "execution_count": 40
    },
    {
      "cell_type": "code",
      "source": "l1_int = []\nl2_str = []\nfor i in l:\n    logging.info(\"we are iterating through our list nd our local variabie is i {}\".format(l) ) #{}\".format(l) is place holder to add something like list or anyy anyy integers\n    if type(i) == list :\n        logging.info(\"I am inside if statement and i am trrying to check list type\" + str(i))\n        for j in i:\n            logging.info(\"i am inside another for loop for list inside list element\" + str(j))\n            if type(j) == int:\n                logging.info(\"I am inside if statement and i am trying to check int type\")\n                l1_int.append(j)\n                \n    \n    elif type(i) == int:\n        l1_int.append(i)\n    else:\n        if type(i) == str :\n            l2_str.append(i)\n\nlogging.info(\"my final result for int is {l1} annd str is {l2}\".format(l1 = l1_int , l2 = l2_str) )",
      "metadata": {
        "trusted": true
      },
      "outputs": [],
      "execution_count": 46
    },
    {
      "cell_type": "code",
      "source": "#logging means to store evryting you code in a file",
      "metadata": {
        "trusted": true
      },
      "outputs": [],
      "execution_count": null
    }
  ]
}