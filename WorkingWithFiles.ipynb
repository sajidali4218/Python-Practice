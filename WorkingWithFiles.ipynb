{
  "metadata": {
    "kernelspec": {
      "name": "python",
      "display_name": "Python (Pyodide)",
      "language": "python"
    },
    "language_info": {
      "codemirror_mode": {
        "name": "python",
        "version": 3
      },
      "file_extension": ".py",
      "mimetype": "text/x-python",
      "name": "python",
      "nbconvert_exporter": "python",
      "pygments_lexer": "ipython3",
      "version": "3.8"
    }
  },
  "nbformat_minor": 4,
  "nbformat": 4,
  "cells": [
    {
      "cell_type": "code",
      "source": "f = open(\"test.txt\" , 'w')",
      "metadata": {
        "trusted": true
      },
      "outputs": [],
      "execution_count": 11
    },
    {
      "cell_type": "code",
      "source": "pwd",
      "metadata": {
        "trusted": true
      },
      "outputs": [
        {
          "execution_count": 12,
          "output_type": "execute_result",
          "data": {
            "text/plain": "'/drive/notebooks/Python_Practice/OOPS'"
          },
          "metadata": {}
        }
      ],
      "execution_count": 12
    },
    {
      "cell_type": "code",
      "source": "f.write(\"this iss my first filer yhtryhyyto write\")",
      "metadata": {
        "trusted": true
      },
      "outputs": [
        {
          "execution_count": 13,
          "output_type": "execute_result",
          "data": {
            "text/plain": "40"
          },
          "metadata": {}
        }
      ],
      "execution_count": 13
    },
    {
      "cell_type": "code",
      "source": "f.close()",
      "metadata": {
        "trusted": true
      },
      "outputs": [],
      "execution_count": 14
    },
    {
      "cell_type": "code",
      "source": "f = open(\"test.txt\" , 'w')",
      "metadata": {
        "trusted": true
      },
      "outputs": [],
      "execution_count": 15
    },
    {
      "cell_type": "code",
      "source": "f.write(\"this is myy file\")",
      "metadata": {
        "trusted": true
      },
      "outputs": [
        {
          "execution_count": 16,
          "output_type": "execute_result",
          "data": {
            "text/plain": "16"
          },
          "metadata": {}
        }
      ],
      "execution_count": 16
    },
    {
      "cell_type": "code",
      "source": "f.close()",
      "metadata": {
        "trusted": true
      },
      "outputs": [],
      "execution_count": 17
    },
    {
      "cell_type": "code",
      "source": "f = open(\"test.txt\" , 'a')",
      "metadata": {
        "trusted": true
      },
      "outputs": [],
      "execution_count": 18
    },
    {
      "cell_type": "code",
      "source": "f.write(\"India will play their final T20I series before the T20 World Cup when they host Afghanistan for three matches in January 2024. There is still no official word on who India's permanent T20I captain is and the fans are eagerly waiting for an official word from the BCCI. Before the series, India have suffered twin injury blows as two stand-in captains are set to miss all three fixtures\")",
      "metadata": {
        "trusted": true
      },
      "outputs": [
        {
          "execution_count": 19,
          "output_type": "execute_result",
          "data": {
            "text/plain": "385"
          },
          "metadata": {}
        }
      ],
      "execution_count": 19
    },
    {
      "cell_type": "code",
      "source": "f.close()",
      "metadata": {
        "trusted": true
      },
      "outputs": [],
      "execution_count": 20
    },
    {
      "cell_type": "code",
      "source": "f = open(\"test.txt\" , 'r')",
      "metadata": {
        "trusted": true
      },
      "outputs": [],
      "execution_count": 22
    },
    {
      "cell_type": "code",
      "source": "f.read()",
      "metadata": {
        "trusted": true
      },
      "outputs": [
        {
          "execution_count": 23,
          "output_type": "execute_result",
          "data": {
            "text/plain": "\"this is myy filet filer yhtryhyyto writeIndia will play their final T20I series before the T20 World Cup when they host Afghanistan for three matches in January 2024. There is still no official word on who India's permanent T20I captain is and the fans are eagerly waiting for an official word from the BCCI. Before the series, India have suffered twin injury blows as two stand-in captains are set to miss all three fixturesIndia will play their final T20I series before the T20 World Cup when they host Afghanistan for three matches in January 2024. There is still no official word on who India's permanent T20I captain is and the fans are eagerly waiting for an official word from the BCCI. Before the series, India have suffered twin injury blows as two stand-in captains are set to miss all three fixturesIndia will play their final T20I series before the T20 World Cup when they host Afghanistan for three matches in January 2024. There is still no official word on who India's permanent T20I captain is and the fans are eagerly waiting for an official word from the BCCI. Before the series, India have suffered twin injury blows as two stand-in captains are set to miss all three fixtures\""
          },
          "metadata": {}
        }
      ],
      "execution_count": 23
    },
    {
      "cell_type": "code",
      "source": "f.readline()",
      "metadata": {
        "trusted": true
      },
      "outputs": [
        {
          "execution_count": 24,
          "output_type": "execute_result",
          "data": {
            "text/plain": "''"
          },
          "metadata": {}
        }
      ],
      "execution_count": 24
    },
    {
      "cell_type": "code",
      "source": "f.seek(0)",
      "metadata": {
        "trusted": true
      },
      "outputs": [
        {
          "execution_count": 26,
          "output_type": "execute_result",
          "data": {
            "text/plain": "0"
          },
          "metadata": {}
        }
      ],
      "execution_count": 26
    },
    {
      "cell_type": "code",
      "source": "f.readline()",
      "metadata": {
        "trusted": true
      },
      "outputs": [
        {
          "execution_count": 27,
          "output_type": "execute_result",
          "data": {
            "text/plain": "\"this is myy filet filer yhtryhyyto writeIndia will play their final T20I series before the T20 World Cup when they host Afghanistan for three matches in January 2024. There is still no official word on who India's permanent T20I captain is and the fans are eagerly waiting for an official word from the BCCI. Before the series, India have suffered twin injury blows as two stand-in captains are set to miss all three fixturesIndia will play their final T20I series before the T20 World Cup when they host Afghanistan for three matches in January 2024. There is still no official word on who India's permanent T20I captain is and the fans are eagerly waiting for an official word from the BCCI. Before the series, India have suffered twin injury blows as two stand-in captains are set to miss all three fixturesIndia will play their final T20I series before the T20 World Cup when they host Afghanistan for three matches in January 2024. There is still no official word on who India's permanent T20I captain is and the fans are eagerly waiting for an official word from the BCCI. Before the series, India have suffered twin injury blows as two stand-in captains are set to miss all three fixtures\""
          },
          "metadata": {}
        }
      ],
      "execution_count": 27
    },
    {
      "cell_type": "code",
      "source": "f.seek(10)",
      "metadata": {
        "trusted": true
      },
      "outputs": [
        {
          "execution_count": 28,
          "output_type": "execute_result",
          "data": {
            "text/plain": "10"
          },
          "metadata": {}
        }
      ],
      "execution_count": 28
    },
    {
      "cell_type": "code",
      "source": "f.readline()",
      "metadata": {
        "trusted": true
      },
      "outputs": [
        {
          "execution_count": 29,
          "output_type": "execute_result",
          "data": {
            "text/plain": "\"y filet filer yhtryhyyto writeIndia will play their final T20I series before the T20 World Cup when they host Afghanistan for three matches in January 2024. There is still no official word on who India's permanent T20I captain is and the fans are eagerly waiting for an official word from the BCCI. Before the series, India have suffered twin injury blows as two stand-in captains are set to miss all three fixturesIndia will play their final T20I series before the T20 World Cup when they host Afghanistan for three matches in January 2024. There is still no official word on who India's permanent T20I captain is and the fans are eagerly waiting for an official word from the BCCI. Before the series, India have suffered twin injury blows as two stand-in captains are set to miss all three fixturesIndia will play their final T20I series before the T20 World Cup when they host Afghanistan for three matches in January 2024. There is still no official word on who India's permanent T20I captain is and the fans are eagerly waiting for an official word from the BCCI. Before the series, India have suffered twin injury blows as two stand-in captains are set to miss all three fixtures\""
          },
          "metadata": {}
        }
      ],
      "execution_count": 29
    },
    {
      "cell_type": "code",
      "source": "f1 = open(\"test.txt\" , 'r')",
      "metadata": {
        "trusted": true
      },
      "outputs": [],
      "execution_count": 30
    },
    {
      "cell_type": "code",
      "source": "for i in  f1:\n    print(i)",
      "metadata": {
        "trusted": true
      },
      "outputs": [
        {
          "name": "stdout",
          "text": "this is myy filet filer yhtryhyyto writeIndia will play their final T20I series before the T20 World Cup when they host Afghanistan for three matches in January 2024. There is still no official word on who India's permanent T20I captain is and the fans are eagerly waiting for an official word from the BCCI. Before the series, India have suffered twin injury blows as two stand-in captains are set to miss all three fixturesIndia will play their final T20I series before the T20 World Cup when they host Afghanistan for three matches in January 2024. There is still no official word on who India's permanent T20I captain is and the fans are eagerly waiting for an official word from the BCCI. Before the series, India have suffered twin injury blows as two stand-in captains are set to miss all three fixturesIndia will play their final T20I series before the T20 World Cup when they host Afghanistan for three matches in January 2024. There is still no official word on who India's permanent T20I captain is and the fans are eagerly waiting for an official word from the BCCI. Before the series, India have suffered twin injury blows as two stand-in captains are set to miss all three fixtures\n",
          "output_type": "stream"
        }
      ],
      "execution_count": 31
    },
    {
      "cell_type": "code",
      "source": "import os  #operating system module imported",
      "metadata": {
        "trusted": true
      },
      "outputs": [],
      "execution_count": 34
    },
    {
      "cell_type": "code",
      "source": "os.path.getsize(\"test.txt\")",
      "metadata": {
        "trusted": true
      },
      "outputs": [
        {
          "execution_count": 35,
          "output_type": "execute_result",
          "data": {
            "text/plain": "0"
          },
          "metadata": {}
        }
      ],
      "execution_count": 35
    },
    {
      "cell_type": "code",
      "source": "os.remove(\"test.txt\")",
      "metadata": {
        "trusted": true
      },
      "outputs": [],
      "execution_count": 36
    },
    {
      "cell_type": "code",
      "source": "f = open(\"test1.txt\" , 'w')",
      "metadata": {
        "trusted": true
      },
      "outputs": [],
      "execution_count": 41
    },
    {
      "cell_type": "code",
      "source": "f.write(\"this is myy filet filer yhtryhyyto writeIndia will play their final T20I series before the T20 World Cup when they host Afghanistan for three matches in January 2024. There is still no official word on who India's permanent T20I captain is and the fans are eagerly waiting for an official word from the BCCI. Before the series, India have suffered twin injury blows as two stand-in captains are set to miss all three fixturesIndia will play their final T20I series before the T20 World Cup when they host Afghanistan for three matches in January 2024. There is still no official word on who India's permanent T20I captain is and the fans are eagerly waiting for an official word from the BCCI. Before the series, India have suffered twin injury blows as two stand-in captains are set to miss all three fixturesIndia will play their final T20I series before the T20 World Cup when they host Afghanistan for three matches in January 2024. There is still no official word on who India's permanent T20I captain is and the fans are eagerly waiting for an official word from the BCCI. Before the series, India have suffered twin injury blows as two stand-in captains are set to miss all three fixtures\")",
      "metadata": {
        "trusted": true
      },
      "outputs": [
        {
          "execution_count": 42,
          "output_type": "execute_result",
          "data": {
            "text/plain": "1195"
          },
          "metadata": {}
        }
      ],
      "execution_count": 42
    },
    {
      "cell_type": "code",
      "source": "f.close()",
      "metadata": {
        "trusted": true
      },
      "outputs": [],
      "execution_count": 43
    },
    {
      "cell_type": "code",
      "source": "os.rename(\"test1.txt\" , \"new.txt\")",
      "metadata": {
        "trusted": true
      },
      "outputs": [],
      "execution_count": 44
    },
    {
      "cell_type": "code",
      "source": "import shutil #shutil module/package imported",
      "metadata": {
        "trusted": true
      },
      "outputs": [],
      "execution_count": 46
    },
    {
      "cell_type": "code",
      "source": "shutil.copy(\"new.txt\" , \"copy_new.txt\")",
      "metadata": {
        "trusted": true
      },
      "outputs": [
        {
          "execution_count": 47,
          "output_type": "execute_result",
          "data": {
            "text/plain": "'copy_new.txt'"
          },
          "metadata": {}
        }
      ],
      "execution_count": 47
    },
    {
      "cell_type": "code",
      "source": "with open(\"new.txt\" , \"r\") as f:\n    print(f.read())",
      "metadata": {
        "trusted": true
      },
      "outputs": [
        {
          "name": "stdout",
          "text": "this is myy filet filer yhtryhyyto writeIndia will play their final T20I series before the T20 World Cup when they host Afghanistan for three matches in January 2024. There is still no official word on who India's permanent T20I captain is and the fans are eagerly waiting for an official word from the BCCI. Before the series, India have suffered twin injury blows as two stand-in captains are set to miss all three fixturesIndia will play their final T20I series before the T20 World Cup when they host Afghanistan for three matches in January 2024. There is still no official word on who India's permanent T20I captain is and the fans are eagerly waiting for an official word from the BCCI. Before the series, India have suffered twin injury blows as two stand-in captains are set to miss all three fixturesIndia will play their final T20I series before the T20 World Cup when they host Afghanistan for three matches in January 2024. There is still no official word on who India's permanent T20I captain is and the fans are eagerly waiting for an official word from the BCCI. Before the series, India have suffered twin injury blows as two stand-in captains are set to miss all three fixtures\n",
          "output_type": "stream"
        }
      ],
      "execution_count": 49
    },
    {
      "cell_type": "code",
      "source": "",
      "metadata": {
        "trusted": true
      },
      "outputs": [],
      "execution_count": null
    }
  ]
}